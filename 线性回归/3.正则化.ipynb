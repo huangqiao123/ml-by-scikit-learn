{
 "cells": [
  {
   "cell_type": "markdown",
   "metadata": {},
   "source": [
    "# 正则化"
   ]
  },
  {
   "cell_type": "markdown",
   "metadata": {},
   "source": [
    "将基本函数引入线性回归令我们的模型更加灵活，但是它很容易导致过拟合\n",
    "\n",
    "例如如果我们选择了太多的高斯函数，产生的结果就不太可靠了"
   ]
  },
  {
   "cell_type": "markdown",
   "metadata": {},
   "source": [
    "## 岭回归（$L_2$正则化）\n",
    "这个过程通过对模型系数的平方和（2-范数）进行乘法；在这个例子中，模型的惩罚是\n",
    "$$\n",
    "P = \\alpha\\sum_{n=1}^N \\theta_n^2\n",
    "$$\n",
    "其中$\\alpha$是控制乘法力度的参数。这类的惩罚模型內建在Scikit-Learn中`Ridge`评估器中："
   ]
  },
  {
   "cell_type": "markdown",
   "metadata": {},
   "source": [
    "$\\alpha$参数是用来控制模型复杂度的关键开关。极限情况$\\alpha \\to 0$时，恢复到标准线性回归结果；极限情况$\\alpha \\to \\infty$时，所有模型的响应都会被压缩。岭回归的一大优点是它能非常有效的计算，基本没有产生比原始线性回归模型更大的计算消耗。"
   ]
  },
  {
   "cell_type": "code",
   "execution_count": 1,
   "metadata": {},
   "outputs": [
    {
     "data": {
      "text/plain": [
       "\"\\nfrom sklearn.linear_model import Ridge\\nmodel = make_pipeline(GaussianFeatures(30), Ridge(alpha=0.1))\\nbasis_plot(model, title='Ridge Regression')\\n\""
      ]
     },
     "execution_count": 1,
     "metadata": {},
     "output_type": "execute_result"
    }
   ],
   "source": [
    "'''\n",
    "from sklearn.linear_model import Ridge\n",
    "model = make_pipeline(GaussianFeatures(30), Ridge(alpha=0.1))\n",
    "basis_plot(model, title='Ridge Regression')\n",
    "'''"
   ]
  },
  {
   "cell_type": "markdown",
   "metadata": {},
   "source": [
    "![](images/2022-08-29-13-04-52.png)"
   ]
  },
  {
   "cell_type": "markdown",
   "metadata": {},
   "source": [
    "## Lasso算法回归（$L_1$正则化）\n",
    "另一个常用的正则化类型被称为lasso，通过惩罚回归系数绝对值和（1-范数）来实现：\n",
    "$$\n",
    "P = \\alpha\\sum_{n=1}^N |\\theta_n|\n",
    "$$\n",
    "虽然这在概念上非常类似岭回归，但是结果却大不相同：例如因为几何原因lasso回归更适合*稀疏模型*，即它倾向于将模型系数设置为0。\n"
   ]
  },
  {
   "cell_type": "markdown",
   "metadata": {},
   "source": [
    "我们可以从下面的图中看到这个特点，这里将岭回归改成了使用L1正则化系数：\n",
    "\n",
    "下面代码添加了`Lasso`正则化线性回归模型参数tol，以避免产生一个不收敛的警告。"
   ]
  },
  {
   "cell_type": "code",
   "execution_count": 2,
   "metadata": {},
   "outputs": [
    {
     "data": {
      "text/plain": [
       "\"\\nfrom sklearn.linear_model import Lasso\\nmodel = make_pipeline(GaussianFeatures(30), Lasso(alpha=0.001, tol=0.01))\\nbasis_plot(model, title='Lasso Regression')\\n\""
      ]
     },
     "execution_count": 2,
     "metadata": {},
     "output_type": "execute_result"
    }
   ],
   "source": [
    "'''\n",
    "from sklearn.linear_model import Lasso\n",
    "model = make_pipeline(GaussianFeatures(30), Lasso(alpha=0.001, tol=0.01))\n",
    "basis_plot(model, title='Lasso Regression')\n",
    "'''"
   ]
  },
  {
   "cell_type": "markdown",
   "metadata": {},
   "source": [
    "![](images/2022-08-29-13-12-26.png)"
   ]
  }
 ],
 "metadata": {
  "kernelspec": {
   "display_name": "Python 3.9.12 ('base')",
   "language": "python",
   "name": "python3"
  },
  "language_info": {
   "codemirror_mode": {
    "name": "ipython",
    "version": 3
   },
   "file_extension": ".py",
   "mimetype": "text/x-python",
   "name": "python",
   "nbconvert_exporter": "python",
   "pygments_lexer": "ipython3",
   "version": "3.9.12"
  },
  "orig_nbformat": 4,
  "vscode": {
   "interpreter": {
    "hash": "40f6bf15338c0154930a244fc3026a0d17ebaa8f8b3b254c75ff612c4b63945b"
   }
  }
 },
 "nbformat": 4,
 "nbformat_minor": 2
}
